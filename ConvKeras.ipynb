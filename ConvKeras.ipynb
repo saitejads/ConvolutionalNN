{
 "cells": [
  {
   "cell_type": "markdown",
   "metadata": {},
   "source": [
    "# Convolutional Neural Network."
   ]
  },
  {
   "cell_type": "code",
   "execution_count": 5,
   "metadata": {},
   "outputs": [
    {
     "name": "stdout",
     "output_type": "stream",
     "text": [
      "(60000, 28, 28)\n",
      "(10000, 28, 28)\n",
      "(60000, 28, 28, 1)\n",
      "(10000, 28, 28, 1)\n",
      "Epoch 1/5\n",
      "60000/60000 [==============================] - 88s 1ms/step - loss: 0.1328 - acc: 0.9591\n",
      "Epoch 2/5\n",
      "60000/60000 [==============================] - 84s 1ms/step - loss: 0.0433 - acc: 0.9863\n",
      "Epoch 3/5\n",
      "60000/60000 [==============================] - 84s 1ms/step - loss: 0.0282 - acc: 0.9908\n",
      "Epoch 4/5\n",
      "60000/60000 [==============================] - 90s 1ms/step - loss: 0.0230 - acc: 0.9927\n",
      "Epoch 5/5\n",
      "60000/60000 [==============================] - 96s 2ms/step - loss: 0.0178 - acc: 0.9941\n",
      "10000/10000 [==============================] - 5s 477us/step\n",
      "ACCURACY ON TEST SET 0.9909\n"
     ]
    }
   ],
   "source": [
    "import numpy as np\n",
    "import tensorflow as tf\n",
    "from tensorflow.python.keras.models import Sequential\n",
    "from tensorflow.python.keras.layers import Dense, Conv2D, MaxPooling2D, Flatten\n",
    "from tensorflow.python.keras.datasets import mnist\n",
    "\n",
    "#Load the data.\n",
    "(xtr,ytr),(xts,yts) = mnist.load_data()\n",
    "\n",
    "#Check the shapes.\n",
    "print(xtr.shape)\n",
    "print(xts.shape)\n",
    "\n",
    "#Normalize the dataset.\n",
    "xtr = xtr/255.0\n",
    "xts = xts/255.0\n",
    "\n",
    "#Reshape to a 4D tensor, as Conv expects a 4D tensor as input.\n",
    "xtr = np.array(xtr).reshape(xtr.shape[0], 28, 28, 1)\n",
    "xts = np.array(xts).reshape(xts.shape[0], 28, 28, 1)\n",
    "\n",
    "#Print the shapes\n",
    "print(xtr.shape)\n",
    "print(xts.shape)\n",
    "\n",
    "#Build a Sequential Model.\n",
    "model = Sequential()\n",
    "\n",
    "#With 64 filter and kernel size of (5,5) and ReLu activation \n",
    "model.add(Conv2D(64,(5,5),input_shape = xtr.shape[1:],activation = 'relu'))\n",
    "\n",
    "#Pooling with Max with (2,2) kernel size and the default strides are same as the kernel size\n",
    "model.add(MaxPooling2D((2,2)))\n",
    "\n",
    "#With 32 filter and kernel size of (5,5) and ReLu activation \n",
    "model.add(Conv2D(32,(5,5),activation = 'relu'))\n",
    "\n",
    "#Pooling with Max with (2,2) kernel size and the default strides are same as the kernel size\n",
    "model.add(MaxPooling2D((2,2)))\n",
    "\n",
    "#Flatten the tensor,as the Dense layer needs it to be flattened.\n",
    "model.add(Flatten())\n",
    "\n",
    "#Dense Layer with 128 nodes in first layer and the output with ReLU\n",
    "model.add(Dense(128,activation = 'relu'))\n",
    "\n",
    "#Dense output layer with 10 nodes(as we have 10 output labels)\n",
    "#Use softmax to squishes to (0,1)\n",
    "model.add(Dense(10,activation = 'softmax'))\n",
    "\n",
    "#Adam Optimizer with default learning rate and loss.\n",
    "model.compile(loss = 'sparse_categorical_crossentropy',optimizer = 'Adam',metrics=['accuracy'])\n",
    "\n",
    "#Fit on the training set.\n",
    "model.fit(xtr,ytr,epochs=5,verbose = 1)\n",
    "\n",
    "#Predict on the test set.\n",
    "print(\"ACCURACY ON TEST SET\", model.evaluate(xts,yts)[1])\n"
   ]
  },
  {
   "cell_type": "markdown",
   "metadata": {},
   "source": [
    "# The accuracy of 99.09 with this basic convolutional network.\n",
    "### There are lot of tweakable hyper parameter like\n",
    "- Number of filters in Convolutional layer.\n",
    "- Number of nodes in the Dense layer.\n",
    "\n",
    "### Need to add dropout, to prevent the over fitting."
   ]
  }
 ],
 "metadata": {
  "kernelspec": {
   "display_name": "Python 3",
   "language": "python",
   "name": "python3"
  },
  "language_info": {
   "codemirror_mode": {
    "name": "ipython",
    "version": 3
   },
   "file_extension": ".py",
   "mimetype": "text/x-python",
   "name": "python",
   "nbconvert_exporter": "python",
   "pygments_lexer": "ipython3",
   "version": "3.6.4"
  }
 },
 "nbformat": 4,
 "nbformat_minor": 2
}
